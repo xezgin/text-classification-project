{
 "cells": [
  {
   "cell_type": "code",
   "execution_count": 1,
   "metadata": {},
   "outputs": [],
   "source": [
    "import numpy as np\n",
    "import pandas as pd\n",
    "import matplotlib.pyplot as plt\n",
    "import nltk\n",
    "import string\n",
    "import re\n",
    "%matplotlib inline"
   ]
  },
  {
   "cell_type": "code",
   "execution_count": 2,
   "metadata": {},
   "outputs": [
    {
     "data": {
      "text/html": [
       "<div>\n",
       "<style scoped>\n",
       "    .dataframe tbody tr th:only-of-type {\n",
       "        vertical-align: middle;\n",
       "    }\n",
       "\n",
       "    .dataframe tbody tr th {\n",
       "        vertical-align: top;\n",
       "    }\n",
       "\n",
       "    .dataframe thead th {\n",
       "        text-align: right;\n",
       "    }\n",
       "</style>\n",
       "<table border=\"1\" class=\"dataframe\">\n",
       "  <thead>\n",
       "    <tr style=\"text-align: right;\">\n",
       "      <th></th>\n",
       "      <th>Date</th>\n",
       "      <th>Tweet</th>\n",
       "      <th>Relevancy</th>\n",
       "    </tr>\n",
       "  </thead>\n",
       "  <tbody>\n",
       "    <tr>\n",
       "      <th>0</th>\n",
       "      <td>2021-01-12 10:35:32</td>\n",
       "      <td>b\"'Omrumu yedi omrumu' diye bir replik vard ya...</td>\n",
       "      <td>1</td>\n",
       "    </tr>\n",
       "    <tr>\n",
       "      <th>1</th>\n",
       "      <td>\\n2021-01-12 10:33:02</td>\n",
       "      <td>b'Buyuk Okyanus\\nbuyukluk 5.2 MB (21 dk once)\\...</td>\n",
       "      <td>1</td>\n",
       "    </tr>\n",
       "    <tr>\n",
       "      <th>2</th>\n",
       "      <td>\\n2021-01-12 10:32:02</td>\n",
       "      <td>b'Buyuk Okyanus\\nbuyukluk 4.8 M (9 dk once)\\nd...</td>\n",
       "      <td>1</td>\n",
       "    </tr>\n",
       "    <tr>\n",
       "      <th>3</th>\n",
       "      <td>\\n2021-01-12 10:29:39</td>\n",
       "      <td>b'Gecmis olsun Denizli  #deprem'</td>\n",
       "      <td>1</td>\n",
       "    </tr>\n",
       "    <tr>\n",
       "      <th>4</th>\n",
       "      <td>\\n2021-01-12 10:28:02</td>\n",
       "      <td>b'Sulawesi Utara, Endonezya\\nbuyukluk 4.3 M (1...</td>\n",
       "      <td>1</td>\n",
       "    </tr>\n",
       "    <tr>\n",
       "      <th>...</th>\n",
       "      <td>...</td>\n",
       "      <td>...</td>\n",
       "      <td>...</td>\n",
       "    </tr>\n",
       "    <tr>\n",
       "      <th>6127</th>\n",
       "      <td>\\n2021-01-10 20:56:40</td>\n",
       "      <td>b'Gecmis olsun Ankara\\n#deprem'</td>\n",
       "      <td>1</td>\n",
       "    </tr>\n",
       "    <tr>\n",
       "      <th>6128</th>\n",
       "      <td>\\n2021-01-10 20:56:40</td>\n",
       "      <td>b'@RasimOzan_K RASIM ABI Gecmis olsun #Ankara\\...</td>\n",
       "      <td>1</td>\n",
       "    </tr>\n",
       "    <tr>\n",
       "      <th>6129</th>\n",
       "      <td>\\n2021-01-10 20:56:39</td>\n",
       "      <td>b'Gecmis olsun  #Ankara #deprem'</td>\n",
       "      <td>1</td>\n",
       "    </tr>\n",
       "    <tr>\n",
       "      <th>6130</th>\n",
       "      <td>\\n2021-01-10 20:56:39</td>\n",
       "      <td>b'Gecmis olsun Ankara, Allah devamini nasip et...</td>\n",
       "      <td>1</td>\n",
       "    </tr>\n",
       "    <tr>\n",
       "      <th>6131</th>\n",
       "      <td>\\n2021-01-10 20:56:38</td>\n",
       "      <td>b'Gecmis olsun Ankara, umarm kimsenin ne canna...</td>\n",
       "      <td>1</td>\n",
       "    </tr>\n",
       "  </tbody>\n",
       "</table>\n",
       "<p>6132 rows × 3 columns</p>\n",
       "</div>"
      ],
      "text/plain": [
       "                       Date  \\\n",
       "0       2021-01-12 10:35:32   \n",
       "1     \\n2021-01-12 10:33:02   \n",
       "2     \\n2021-01-12 10:32:02   \n",
       "3     \\n2021-01-12 10:29:39   \n",
       "4     \\n2021-01-12 10:28:02   \n",
       "...                     ...   \n",
       "6127  \\n2021-01-10 20:56:40   \n",
       "6128  \\n2021-01-10 20:56:40   \n",
       "6129  \\n2021-01-10 20:56:39   \n",
       "6130  \\n2021-01-10 20:56:39   \n",
       "6131  \\n2021-01-10 20:56:38   \n",
       "\n",
       "                                                  Tweet  Relevancy  \n",
       "0     b\"'Omrumu yedi omrumu' diye bir replik vard ya...          1  \n",
       "1     b'Buyuk Okyanus\\nbuyukluk 5.2 MB (21 dk once)\\...          1  \n",
       "2     b'Buyuk Okyanus\\nbuyukluk 4.8 M (9 dk once)\\nd...          1  \n",
       "3                      b'Gecmis olsun Denizli  #deprem'          1  \n",
       "4     b'Sulawesi Utara, Endonezya\\nbuyukluk 4.3 M (1...          1  \n",
       "...                                                 ...        ...  \n",
       "6127                    b'Gecmis olsun Ankara\\n#deprem'          1  \n",
       "6128  b'@RasimOzan_K RASIM ABI Gecmis olsun #Ankara\\...          1  \n",
       "6129                   b'Gecmis olsun  #Ankara #deprem'          1  \n",
       "6130  b'Gecmis olsun Ankara, Allah devamini nasip et...          1  \n",
       "6131  b'Gecmis olsun Ankara, umarm kimsenin ne canna...          1  \n",
       "\n",
       "[6132 rows x 3 columns]"
      ]
     },
     "execution_count": 2,
     "metadata": {},
     "output_type": "execute_result"
    }
   ],
   "source": [
    "#veritabanının eklenmesi\n",
    "df = pd.DataFrame()\n",
    "df = pd.read_excel (r'deprem_new_last.xlsx')\n",
    "df"
   ]
  },
  {
   "cell_type": "code",
   "execution_count": 3,
   "metadata": {},
   "outputs": [],
   "source": [
    "#stringler küçük harflere indirgendi\n",
    "df['Tweet']=df['Tweet'].str.lower()"
   ]
  },
  {
   "cell_type": "code",
   "execution_count": 4,
   "metadata": {},
   "outputs": [
    {
     "data": {
      "text/plain": [
       "'b\" denizli\\'nin pamukkale ilcesinde 4 buyuklugunde #deprem meydana geldi. https://t.co/oiz23rptnb https://t.co/tnkxp76ddl\"'"
      ]
     },
     "execution_count": 4,
     "metadata": {},
     "output_type": "execute_result"
    }
   ],
   "source": [
    "df['Tweet'][400]"
   ]
  },
  {
   "cell_type": "code",
   "execution_count": 5,
   "metadata": {},
   "outputs": [
    {
     "name": "stdout",
     "output_type": "stream",
     "text": [
      "<class 'pandas.core.frame.DataFrame'>\n",
      "RangeIndex: 6132 entries, 0 to 6131\n",
      "Data columns (total 2 columns):\n",
      " #   Column     Non-Null Count  Dtype \n",
      "---  ------     --------------  ----- \n",
      " 0   Tweet      6132 non-null   object\n",
      " 1   Relevancy  6132 non-null   int64 \n",
      "dtypes: int64(1), object(1)\n",
      "memory usage: 95.9+ KB\n"
     ]
    }
   ],
   "source": [
    "# drop date\n",
    "df = df.drop(['Date'], axis=1)\n",
    "\n",
    "df['Tweet']=df['Tweet'].astype(str)\n",
    "df.info()"
   ]
  },
  {
   "cell_type": "code",
   "execution_count": 6,
   "metadata": {},
   "outputs": [],
   "source": [
    "# b' text ' silindi\n",
    "def bas_son_sil(tweet):\n",
    "    tweet = tweet[2:]\n",
    "    tweet = tweet[:-1]\n",
    "    return tweet"
   ]
  },
  {
   "cell_type": "code",
   "execution_count": 7,
   "metadata": {},
   "outputs": [],
   "source": [
    "#tweetlerin içerisindeki mentionlar çıkarıldı\n",
    "def mention_sil(tweet):\n",
    "    tweet = re.sub(r'@\\w+', '', tweet)\n",
    "    return tweet"
   ]
  },
  {
   "cell_type": "code",
   "execution_count": 8,
   "metadata": {},
   "outputs": [],
   "source": [
    "#tweetlerin içerisindeki hashtagler çıkarıldı\n",
    "def hashtag_sil(tweet):\n",
    "    tweet = re.sub(r'#\\w+', '', tweet)\n",
    "    return tweet"
   ]
  },
  {
   "cell_type": "code",
   "execution_count": 9,
   "metadata": {},
   "outputs": [],
   "source": [
    "#url le çıkarıldı\n",
    "def url_sil(tweet):\n",
    "    tweet = re.sub(r'http.?://[^\\s]+[\\s]?', '', tweet)#bağlantıların çıkarılması\n",
    "    return tweet"
   ]
  },
  {
   "cell_type": "code",
   "execution_count": 10,
   "metadata": {},
   "outputs": [],
   "source": [
    "#özel karakterlerin çıkarılması(noktalama vs)\n",
    "def punc_sil(tweet):\n",
    "    tweet = re.sub('[^a-zığüşiöç\\s]', '', tweet)\n",
    "    tweet = re.sub(r\"Â\", \"A\", tweet)\n",
    "    tweet = re.sub(r\"â\", \"a\", tweet)\n",
    "    tweet = re.sub(r\"Î\", \"I\", tweet)\n",
    "    tweet = re.sub(r\"î\", \"ı\", tweet)\n",
    "    tweet = re.sub(r\"Û\", \"U\", tweet)\n",
    "    tweet = re.sub(r\"û\", \"u\", tweet)\n",
    "    return tweet"
   ]
  },
  {
   "cell_type": "code",
   "execution_count": 11,
   "metadata": {},
   "outputs": [],
   "source": [
    "# java virtual machine kullanılarak zemberek uygulaması ile tokenization ve stemming yapıldı\n",
    "import zemberek\n",
    "from jpype import JClass, JString, getDefaultJVMPath, shutdownJVM, startJVM, java\n",
    "#Zemberek kütüphanesinin kullanılabilmesi için Jpype ile JVM oluşturulması\n",
    "ZEMBEREK_PATH = r'zemberek-full.jar'\n",
    "startJVM(getDefaultJVMPath(), '-ea', '-Djava.class.path=%s' % (ZEMBEREK_PATH))\n",
    "#Morphology kütüphanesini kullanacağımızdan burada oluşturuyoruz\n",
    "TurkishMorphology = JClass('zemberek.morphology.TurkishMorphology')\n",
    "morphology = TurkishMorphology.createWithDefaults()"
   ]
  },
  {
   "cell_type": "code",
   "execution_count": 12,
   "metadata": {},
   "outputs": [],
   "source": [
    "# java virtual machine kullanılarak zemberek uygulaması ile tokenization ve stemming yapıldı\n",
    "def stem_vm(tweet):\n",
    "    arr=[]\n",
    "    textlist=tweet.split(\" \")\n",
    "    if(tweet=='        '):\n",
    "        tweet='bos'\n",
    "    analysis: java.util.ArrayList = ( morphology.analyzeAndDisambiguate(tweet).bestAnalysis() )\n",
    "    for i, analysis in enumerate(analysis, start=1):\n",
    "        f'\\nAnalysis {i}: {analysis}',\n",
    "        f'\\nPrimary POS {i}: {analysis.getPos()}' \n",
    "        arr.append(f'{str(analysis.getLemmas()[0])}')\n",
    "    return arr"
   ]
  },
  {
   "cell_type": "code",
   "execution_count": 13,
   "metadata": {},
   "outputs": [],
   "source": [
    "#stopwords çıkarma işlemi yapıldı\n",
    "from nltk.corpus import stopwords\n",
    "stopwords= set(stopwords.words(\"turkish\"))\n",
    "def stopwords_sil(tweet):\n",
    "    tweet=[w for w in tweet if w.lower() not in stopwords]\n",
    "    return tweet"
   ]
  },
  {
   "cell_type": "code",
   "execution_count": 14,
   "metadata": {},
   "outputs": [],
   "source": [
    "def cleaner(tweet):\n",
    "    tweet=tweet\n",
    "    tweet=bas_son_sil(tweet)\n",
    "    tweet=mention_sil(tweet)#mentionların çıkartırılması\n",
    "    #tweet=hashtag_sil(tweet)#hashtagların çıkartılması\n",
    "    tweet=url_sil(tweet)#bağlantıların çıkarılması\n",
    "    tweet=punc_sil(tweet)#özel karakterlerin ve sayıların çıkarılması\n",
    "    tweet=stem_vm(tweet)#kelime köklerinin bulunması\n",
    "    tweet=stopwords_sil(tweet)#durak kelimelerin elenmesi\n",
    "    tweet=' '.join(tweet)\n",
    "    return tweet"
   ]
  },
  {
   "cell_type": "code",
   "execution_count": 15,
   "metadata": {},
   "outputs": [],
   "source": [
    "#datasete yukarıda tanımlanan işlemler uygulandı\n",
    "for i in range(0,len(df['Tweet'])):\n",
    "    tweet = df['Tweet'][i]\n",
    "    tweet = cleaner(tweet)\n",
    "    #tweet=bas_son_sil(tweet)\n",
    "    #tweet=mention_sil(tweet)\n",
    "    #tweet=hashtag_sil(tweet)\n",
    "    #tweet=url_sil(tweet)\n",
    "    #tweet=punc_sil(tweet)\n",
    "    #tweet=emoji_sil(tweet)\n",
    "    #tweet=stem_vm(tweet)\n",
    "    #tweet=stopwords_sil(tweet)\n",
    "    #tweet=' '.join(tweet)\n",
    "    df.at[i,'Tweet'] = tweet"
   ]
  },
  {
   "cell_type": "code",
   "execution_count": 16,
   "metadata": {},
   "outputs": [],
   "source": [
    "from sklearn.model_selection import train_test_split\n",
    "from sklearn.feature_extraction.text import CountVectorizer\n",
    "from sklearn.naive_bayes import MultinomialNB\n",
    "from sklearn.metrics import confusion_matrix\n",
    "import seaborn as sns\n",
    "from sklearn.feature_extraction.text import TfidfTransformer\n",
    "from sklearn.feature_extraction.text import TfidfVectorizer\n",
    "from sklearn import model_selection, naive_bayes\n",
    "from sklearn.metrics import accuracy_score"
   ]
  },
  {
   "cell_type": "code",
   "execution_count": 17,
   "metadata": {},
   "outputs": [
    {
     "data": {
      "text/html": [
       "<div>\n",
       "<style scoped>\n",
       "    .dataframe tbody tr th:only-of-type {\n",
       "        vertical-align: middle;\n",
       "    }\n",
       "\n",
       "    .dataframe tbody tr th {\n",
       "        vertical-align: top;\n",
       "    }\n",
       "\n",
       "    .dataframe thead th {\n",
       "        text-align: right;\n",
       "    }\n",
       "</style>\n",
       "<table border=\"1\" class=\"dataframe\">\n",
       "  <thead>\n",
       "    <tr style=\"text-align: right;\">\n",
       "      <th></th>\n",
       "      <th>Tweet</th>\n",
       "      <th>Relevancy</th>\n",
       "    </tr>\n",
       "  </thead>\n",
       "  <tbody>\n",
       "    <tr>\n",
       "      <th>0</th>\n",
       "      <td>UNK yedi UNK bir replik UNK hani aynen UNK hat...</td>\n",
       "      <td>1</td>\n",
       "    </tr>\n",
       "    <tr>\n",
       "      <th>1</th>\n",
       "      <td>buyuk UNK mb dk UNK km n ocak UNK</td>\n",
       "      <td>1</td>\n",
       "    </tr>\n",
       "    <tr>\n",
       "      <th>2</th>\n",
       "      <td>buyuk UNK m dk UNK km s ocak UNK</td>\n",
       "      <td>1</td>\n",
       "    </tr>\n",
       "    <tr>\n",
       "      <th>3</th>\n",
       "      <td>gecmis ol denizli deprem</td>\n",
       "      <td>1</td>\n",
       "    </tr>\n",
       "    <tr>\n",
       "      <th>4</th>\n",
       "      <td>UNK UNK UNK m dk UNK km n ocak</td>\n",
       "      <td>1</td>\n",
       "    </tr>\n",
       "    <tr>\n",
       "      <th>...</th>\n",
       "      <td>...</td>\n",
       "      <td>...</td>\n",
       "    </tr>\n",
       "    <tr>\n",
       "      <th>6127</th>\n",
       "      <td>gecmis ol UNK</td>\n",
       "      <td>1</td>\n",
       "    </tr>\n",
       "    <tr>\n",
       "      <th>6128</th>\n",
       "      <td>rasim abi gecmis ol UNK meydan gel UNK deprem ...</td>\n",
       "      <td>1</td>\n",
       "    </tr>\n",
       "    <tr>\n",
       "      <th>6129</th>\n",
       "      <td>gecmis ol ankara deprem</td>\n",
       "      <td>1</td>\n",
       "    </tr>\n",
       "    <tr>\n",
       "      <th>6130</th>\n",
       "      <td>gecmis ol ankara allah UNK nasip et deprem uyu...</td>\n",
       "      <td>1</td>\n",
       "    </tr>\n",
       "    <tr>\n",
       "      <th>6131</th>\n",
       "      <td>gecmis ol ankara UNK kimse cann UNK zarar UNK</td>\n",
       "      <td>1</td>\n",
       "    </tr>\n",
       "  </tbody>\n",
       "</table>\n",
       "<p>6132 rows × 2 columns</p>\n",
       "</div>"
      ],
      "text/plain": [
       "                                                  Tweet  Relevancy\n",
       "0     UNK yedi UNK bir replik UNK hani aynen UNK hat...          1\n",
       "1                     buyuk UNK mb dk UNK km n ocak UNK          1\n",
       "2                      buyuk UNK m dk UNK km s ocak UNK          1\n",
       "3                              gecmis ol denizli deprem          1\n",
       "4                        UNK UNK UNK m dk UNK km n ocak          1\n",
       "...                                                 ...        ...\n",
       "6127                                      gecmis ol UNK          1\n",
       "6128  rasim abi gecmis ol UNK meydan gel UNK deprem ...          1\n",
       "6129                            gecmis ol ankara deprem          1\n",
       "6130  gecmis ol ankara allah UNK nasip et deprem uyu...          1\n",
       "6131      gecmis ol ankara UNK kimse cann UNK zarar UNK          1\n",
       "\n",
       "[6132 rows x 2 columns]"
      ]
     },
     "execution_count": 17,
     "metadata": {},
     "output_type": "execute_result"
    }
   ],
   "source": [
    "df"
   ]
  },
  {
   "cell_type": "code",
   "execution_count": 18,
   "metadata": {},
   "outputs": [
    {
     "data": {
      "image/png": "[encoded data removed]",
      "text/plain": [
       "<Figure size 720x288 with 1 Axes>"
      ]
     },
     "metadata": {
      "needs_background": "light"
     },
     "output_type": "display_data"
    }
   ],
   "source": [
    "labels = [0,1]\n",
    "plt.figure(figsize=(10,4))\n",
    "df.Relevancy.value_counts().plot(kind='bar');"
   ]
  },
  {
   "cell_type": "code",
   "execution_count": 19,
   "metadata": {},
   "outputs": [
    {
     "data": {
      "text/plain": [
       "<matplotlib.axes._subplots.AxesSubplot at 0x24e473f4bb0>"
      ]
     },
     "execution_count": 19,
     "metadata": {},
     "output_type": "execute_result"
    },
    {
     "data": {
      "image/png": "[encoded data removed]",
      "text/plain": [
       "<Figure size 432x288 with 1 Axes>"
      ]
     },
     "metadata": {
      "needs_background": "light"
     },
     "output_type": "display_data"
    }
   ],
   "source": [
    "df['Length']=df['Tweet'].apply(len)\n",
    "df['Length'].plot(bins=100, kind='hist')"
   ]
  },
  {
   "cell_type": "code",
   "execution_count": 20,
   "metadata": {},
   "outputs": [],
   "source": [
    "def draw_conf(conf_mat, title):\n",
    "    fig, ax = plt.subplots(figsize=(5,5))\n",
    "    \n",
    "    sns.heatmap(conf_mat, annot=True, cmap=\"Blues\", fmt='d',\n",
    "                xticklabels={1,0},\n",
    "                yticklabels={1,0})\n",
    "    plt.ylabel('Actual')\n",
    "    plt.xlabel('Predicted')\n",
    "    plt.title(title+' \\n', size=16);"
   ]
  },
  {
   "cell_type": "code",
   "execution_count": 21,
   "metadata": {},
   "outputs": [],
   "source": [
    "X = df['Tweet']\n",
    "Y = df['Relevancy']"
   ]
  },
  {
   "cell_type": "code",
   "execution_count": 22,
   "metadata": {},
   "outputs": [
    {
     "name": "stdout",
     "output_type": "stream",
     "text": [
      "2021-07-09 11:26:21,816 - numexpr.utils - INFO\n",
      "Msg: NumExpr defaulting to 4 threads.\n",
      "\n"
     ]
    },
    {
     "data": {
      "image/png": "[encoded data removed]",
      "text/plain": [
       "<Figure size 360x360 with 2 Axes>"
      ]
     },
     "metadata": {
      "needs_background": "light"
     },
     "output_type": "display_data"
    }
   ],
   "source": [
    "#tweet vectorization with countvectorizer\n",
    "t=CountVectorizer()\n",
    "tweets=t.fit_transform(df['Tweet']).toarray()\n",
    "X_train, X_test, Y_train, Y_test = train_test_split(tweets, Y, test_size=0.3, random_state = 44)\n",
    "#modelin eğitilmesi\n",
    "nbc=MultinomialNB()\n",
    "nbc.fit(X_train,Y_train)\n",
    "from sklearn.metrics import classification_report,confusion_matrix\n",
    "preds=nbc.predict(X_test)\n",
    "conf_mat = confusion_matrix(Y_test, preds)\n",
    "\n",
    "\n",
    "draw_conf(conf_mat, 'CONFUSION MATRIX OF NaiveBayes') "
   ]
  },
  {
   "cell_type": "code",
   "execution_count": 23,
   "metadata": {},
   "outputs": [
    {
     "name": "stdout",
     "output_type": "stream",
     "text": [
      "              precision    recall  f1-score   support\n",
      "\n",
      "           0       0.49      0.53      0.51       131\n",
      "           1       0.96      0.96      0.96      1709\n",
      "\n",
      "    accuracy                           0.93      1840\n",
      "   macro avg       0.73      0.74      0.74      1840\n",
      "weighted avg       0.93      0.93      0.93      1840\n",
      "\n"
     ]
    }
   ],
   "source": [
    "print(classification_report(Y_test,preds))"
   ]
  },
  {
   "cell_type": "code",
   "execution_count": 24,
   "metadata": {},
   "outputs": [
    {
     "data": {
      "text/plain": [
       "array([0], dtype=int64)"
      ]
     },
     "execution_count": 24,
     "metadata": {},
     "output_type": "execute_result"
    }
   ],
   "source": [
    "nbc.predict(t.transform([\"yengeye elif dedin usta\"]))"
   ]
  },
  {
   "cell_type": "code",
   "execution_count": 25,
   "metadata": {},
   "outputs": [
    {
     "name": "stdout",
     "output_type": "stream",
     "text": [
      "              precision    recall  f1-score   support\n",
      "\n",
      "           0       0.58      0.51      0.54        94\n",
      "           1       0.96      0.97      0.96      1133\n",
      "\n",
      "    accuracy                           0.93      1227\n",
      "   macro avg       0.77      0.74      0.75      1227\n",
      "weighted avg       0.93      0.93      0.93      1227\n",
      "\n",
      "              precision    recall  f1-score   support\n",
      "\n",
      "           0       0.50      0.61      0.55        94\n",
      "           1       0.97      0.95      0.96      1133\n",
      "\n",
      "    accuracy                           0.92      1227\n",
      "   macro avg       0.73      0.78      0.75      1227\n",
      "weighted avg       0.93      0.92      0.93      1227\n",
      "\n",
      "              precision    recall  f1-score   support\n",
      "\n",
      "           0       0.61      0.53      0.57        94\n",
      "           1       0.96      0.97      0.97      1132\n",
      "\n",
      "    accuracy                           0.94      1226\n",
      "   macro avg       0.79      0.75      0.77      1226\n",
      "weighted avg       0.93      0.94      0.94      1226\n",
      "\n",
      "              precision    recall  f1-score   support\n",
      "\n",
      "           0       0.67      0.54      0.60        94\n",
      "           1       0.96      0.98      0.97      1132\n",
      "\n",
      "    accuracy                           0.94      1226\n",
      "   macro avg       0.82      0.76      0.79      1226\n",
      "weighted avg       0.94      0.94      0.94      1226\n",
      "\n",
      "              precision    recall  f1-score   support\n",
      "\n",
      "           0       0.63      0.46      0.53        94\n",
      "           1       0.96      0.98      0.97      1132\n",
      "\n",
      "    accuracy                           0.94      1226\n",
      "   macro avg       0.79      0.72      0.75      1226\n",
      "weighted avg       0.93      0.94      0.93      1226\n",
      "\n"
     ]
    },
    {
     "data": {
      "image/png": "[encoded data removed]",
      "text/plain": [
       "<Figure size 360x360 with 2 Axes>"
      ]
     },
     "metadata": {
      "needs_background": "light"
     },
     "output_type": "display_data"
    },
    {
     "data": {
      "image/png": "[encoded data removed]",
      "text/plain": [
       "<Figure size 360x360 with 2 Axes>"
      ]
     },
     "metadata": {
      "needs_background": "light"
     },
     "output_type": "display_data"
    },
    {
     "data": {
      "image/png": "[encoded data removed]",
      "text/plain": [
       "<Figure size 360x360 with 2 Axes>"
      ]
     },
     "metadata": {
      "needs_background": "light"
     },
     "output_type": "display_data"
    },
    {
     "data": {
      "image/png": "[encoded data removed]",
      "text/plain": [
       "<Figure size 360x360 with 2 Axes>"
      ]
     },
     "metadata": {
      "needs_background": "light"
     },
     "output_type": "display_data"
    },
    {
     "data": {
      "image/png": "[encoded data removed]",
      "text/plain": [
       "<Figure size 360x360 with 2 Axes>"
      ]
     },
     "metadata": {
      "needs_background": "light"
     },
     "output_type": "display_data"
    }
   ],
   "source": [
    "from sklearn.model_selection import StratifiedKFold, KFold\n",
    "X2 = df['Tweet']\n",
    "Y2 = df['Relevancy']\n",
    "\n",
    "metrics2 = []\n",
    "X_train2, X_test2, Y_train2, Y_test2 = train_test_split(X2, Y2, test_size=0.3, random_state = 44)\n",
    "\n",
    "skf = StratifiedKFold(n_splits=5)\n",
    "for train_index, test_index in skf.split(X, Y):\n",
    "    X_train2, X_test2 = X[train_index], X[test_index]\n",
    "    Y_train2, Y_test2 = Y[train_index], Y[test_index]\n",
    "    t2 = CountVectorizer()\n",
    "    X_train2_dtm = t2.fit_transform(X_train2)\n",
    "    X_test2_dtm = t2.transform(X_test2)\n",
    "    nbc2 = MultinomialNB()\n",
    "    nbc2.fit(X_train2_dtm, Y_train2)\n",
    "    preds2 = nbc2.predict(X_test2_dtm)\n",
    "    conf_mat2 = confusion_matrix(Y_test2, preds2)\n",
    "    draw_conf(conf_mat2, 'CONFUSION MATRIX OF NaiveBayes')\n",
    "    print(classification_report(Y_test2,preds2))"
   ]
  },
  {
   "cell_type": "code",
   "execution_count": 26,
   "metadata": {},
   "outputs": [
    {
     "data": {
      "image/png": "[encoded data removed]",
      "text/plain": [
       "<Figure size 360x360 with 2 Axes>"
      ]
     },
     "metadata": {
      "needs_background": "light"
     },
     "output_type": "display_data"
    }
   ],
   "source": [
    "#tweet vectorization with countvectorizer\n",
    "t=CountVectorizer().fit(df['Tweet'])\n",
    "tweets=t.transform(df['Tweet'])\n",
    "\n",
    "X_train, X_test, Y_train, Y_test = train_test_split(tweets, df['Relevancy'], test_size = 0.3)\n",
    "from sklearn.svm import SVC\n",
    "svm = SVC(kernel='linear')\n",
    "svm.fit(X_train, Y_train)\n",
    "\n",
    "Y_pred = svm.predict(X_test)\n",
    "\n",
    "from sklearn.metrics import classification_report, confusion_matrix\n",
    "confusion_matrix(Y_test,Y_pred)\n",
    "\n",
    "svm=confusion_matrix(Y_test,preds)\n",
    "fig, ax = plt.subplots(figsize=(5,5))\n",
    "sns.heatmap(svm, annot=True, cmap=\"Blues\", fmt='d',\n",
    "            xticklabels={1,0},\n",
    "            yticklabels={1,0})\n",
    "plt.ylabel('Actual')\n",
    "plt.xlabel('Predicted')\n",
    "plt.title(\"CONFUSION MATRIX OF SVM\\n\", size=16);"
   ]
  },
  {
   "cell_type": "code",
   "execution_count": 27,
   "metadata": {},
   "outputs": [
    {
     "name": "stdout",
     "output_type": "stream",
     "text": [
      "              precision    recall  f1-score   support\n",
      "\n",
      "           0       0.62      0.40      0.48       146\n",
      "           1       0.95      0.98      0.96      1694\n",
      "\n",
      "    accuracy                           0.93      1840\n",
      "   macro avg       0.78      0.69      0.72      1840\n",
      "weighted avg       0.92      0.93      0.93      1840\n",
      "\n"
     ]
    }
   ],
   "source": [
    "print(classification_report(Y_test,Y_pred))"
   ]
  },
  {
   "cell_type": "code",
   "execution_count": 28,
   "metadata": {},
   "outputs": [
    {
     "data": {
      "image/png": "[encoded data removed]",
      "text/plain": [
       "<Figure size 360x360 with 2 Axes>"
      ]
     },
     "metadata": {
      "needs_background": "light"
     },
     "output_type": "display_data"
    }
   ],
   "source": [
    "#tweet vectorization with countvectorizer\n",
    "t=CountVectorizer().fit(df['Tweet'])\n",
    "tweets=t.transform(df['Tweet'])\n",
    "\n",
    "X_train, X_test, Y_train, Y_test = train_test_split(tweets, Y, test_size = 0.3)\n",
    "from sklearn.ensemble import RandomForestClassifier\n",
    "\n",
    "rfc=RandomForestClassifier(n_estimators=110)\n",
    "rfc.fit(X_train,Y_train)\n",
    "Y_pred=rfc.predict(X_test)\n",
    "rfc_conf_mat=confusion_matrix(Y_test,preds)\n",
    "fig, ax = plt.subplots(figsize=(5,5))\n",
    "sns.heatmap(rfc_conf_mat, annot=True, cmap=\"Blues\", fmt='d',\n",
    "            xticklabels={1,0},\n",
    "            yticklabels={1,0})\n",
    "plt.ylabel('Actual')\n",
    "plt.xlabel('Predicted')\n",
    "plt.title(\"CONFUSION MATRIX OF RANDOM FOREST\\n\", size=16);"
   ]
  },
  {
   "cell_type": "code",
   "execution_count": 29,
   "metadata": {},
   "outputs": [
    {
     "name": "stdout",
     "output_type": "stream",
     "text": [
      "              precision    recall  f1-score   support\n",
      "\n",
      "           0       0.72      0.24      0.37       147\n",
      "           1       0.94      0.99      0.96      1693\n",
      "\n",
      "    accuracy                           0.93      1840\n",
      "   macro avg       0.83      0.62      0.66      1840\n",
      "weighted avg       0.92      0.93      0.92      1840\n",
      "\n"
     ]
    }
   ],
   "source": [
    "print(classification_report(Y_test,Y_pred))"
   ]
  }
 ],
 "metadata": {
  "kernelspec": {
   "display_name": "Python 3",
   "language": "python",
   "name": "python3"
  },
  "language_info": {
   "codemirror_mode": {
    "name": "ipython",
    "version": 3
   },
   "file_extension": ".py",
   "mimetype": "text/x-python",
   "name": "python",
   "nbconvert_exporter": "python",
   "pygments_lexer": "ipython3",
   "version": "3.8.3"
  }
 },
 "nbformat": 4,
 "nbformat_minor": 4
}
